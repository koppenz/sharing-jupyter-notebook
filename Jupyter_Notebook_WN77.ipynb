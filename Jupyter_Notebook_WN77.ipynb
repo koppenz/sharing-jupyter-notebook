{
  "metadata": {
    "kernelspec": {
      "name": "python",
      "display_name": "Pyolite",
      "language": "python"
    },
    "language_info": {
      "codemirror_mode": {
        "name": "python",
        "version": 3
      },
      "file_extension": ".py",
      "mimetype": "text/x-python",
      "name": "python",
      "nbconvert_exporter": "python",
      "pygments_lexer": "ipython3",
      "version": "3.8"
    }
  },
  "nbformat_minor": 4,
  "nbformat": 4,
  "cells": [
    {
      "cell_type": "markdown",
      "source": "<center>\n    <img src=\"https://s3-api.us-geo.objectstorage.softlayer.net/cf-courses-data/CognitiveClass/Logos/organization_logo/organization_logo.png\" width=\"300\" alt=\"cognitiveclass.ai logo\"  />\n</center>\n",
      "metadata": {}
    },
    {
      "cell_type": "markdown",
      "source": "#### Add your code below following the instructions given in the course\n",
      "metadata": {}
    },
    {
      "cell_type": "markdown",
      "source": "# My Jupyter Notebook on IBM Watson Studio",
      "metadata": {}
    },
    {
      "cell_type": "markdown",
      "source": "__William Niode__<br>\nArt Director",
      "metadata": {}
    },
    {
      "cell_type": "markdown",
      "source": "*I am interested in data science because its the sexiest job in 21st century* ",
      "metadata": {}
    },
    {
      "cell_type": "markdown",
      "source": "### on the next cell i will show you a simple code",
      "metadata": {}
    },
    {
      "cell_type": "code",
      "source": "1 + 1",
      "metadata": {
        "trusted": true
      },
      "execution_count": 2,
      "outputs": [
        {
          "execution_count": 2,
          "output_type": "execute_result",
          "data": {
            "text/plain": "2"
          },
          "metadata": {}
        }
      ]
    },
    {
      "cell_type": "markdown",
      "source": "___",
      "metadata": {}
    },
    {
      "cell_type": "markdown",
      "source": "* bullet 1\n* bullet 2\n* bullet 3",
      "metadata": {}
    },
    {
      "cell_type": "markdown",
      "source": "1. number 1\n2. number 2\n3. number 3",
      "metadata": {}
    },
    {
      "cell_type": "markdown",
      "source": "| Test   | The |  Table  |\n| ------ |-----| ------- |\n| Test 1 | 001 | table 1 |\n| Test 2 | 002 | table 2 |\n| Test 3 | 003 | table 3 |\n",
      "metadata": {}
    },
    {
      "cell_type": "markdown",
      "source": "[hyperlink](https://www.google.com \"Google's Homepage\")",
      "metadata": {}
    },
    {
      "cell_type": "code",
      "source": "",
      "metadata": {},
      "execution_count": null,
      "outputs": []
    }
  ]
}